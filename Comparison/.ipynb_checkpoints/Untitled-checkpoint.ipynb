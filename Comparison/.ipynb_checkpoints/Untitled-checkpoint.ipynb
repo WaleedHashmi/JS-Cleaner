{
 "cells": [
  {
   "cell_type": "code",
   "execution_count": 5,
   "metadata": {},
   "outputs": [
    {
     "name": "stdout",
     "output_type": "stream",
     "text": [
      "Normalising Image: \t ss/faa-gov/0/screenshotnav-class-hNav.png\n",
      "1095718 3793882\n",
      "Saving Comp 0\n",
      "writing image\n",
      "Saving Comp 1\n",
      "writing image\n",
      "Saving Comp 2\n",
      "writing image\n"
     ]
    },
    {
     "data": {
      "image/png": "[encoded data removed]",
      "text/plain": [
       "<Figure size 432x288 with 1 Axes>"
      ]
     },
     "metadata": {
      "needs_background": "light"
     },
     "output_type": "display_data"
    }
   ],
   "source": [
    "#####\n",
    "#####  1. Aim:\n",
    "#####           a/ Normalise -> Set background as 0 and everything else in their primary colors\n",
    "#####           b/ find disconnected components\n",
    "#####\n",
    "\n",
    "# import the necessary packages\n",
    "import cv2, os\n",
    "import numpy as np\n",
    "import skimage\n",
    "from matplotlib import pyplot as plt\n",
    "\n",
    "\n",
    "def RemoveTempFolders(someList):\n",
    "    for item in someList:\n",
    "        if item[0] == \".\":\n",
    "            someList.remove(item)\n",
    "    return someList\n",
    "\n",
    "def normalise(img, background = [255,255,255]):\n",
    "    # change background to black(0)\n",
    "    # transorm the rest of the pixels to\n",
    "    # monotone for easier comparison later\n",
    "    black = 0\n",
    "    white = 255\n",
    "    k = 0\n",
    "    l=0\n",
    "    for i in range(len(img)):\n",
    "        for j in range(len(img[0])):\n",
    "            if list(img[i][j]) == background:\n",
    "                img[i][j] = black\n",
    "                l+=1\n",
    "            else:\n",
    "                img[i][j] = white\n",
    "                k+=1\n",
    "    print (k,l)\n",
    "    img = cv2.cvtColor(img, cv2.COLOR_BGR2GRAY)\n",
    "    return img\n",
    "\n",
    "\n",
    "def breakIntoComponents (img = \"ss/faa-gov/0/screenshotnav-class-hNav.png\"):\n",
    "    img0 = cv2.imread (img)\n",
    "\n",
    "    print (\"Normalising Image: \\t\", img)\n",
    "    img0_norm = normalise(img0)\n",
    "\n",
    "\n",
    "    labels, markers = cv2.connectedComponents(img0_norm.astype(np.uint8),connectivity=8)\n",
    "\n",
    "    img0_mask = skimage.measure.label(markers, background = 0).flatten()\n",
    "\n",
    "    for i in range (3):    #put range(labels)\n",
    "        component = np.where(img0_mask==1)[0]\n",
    "        print (\"Saving Comp\", i)\n",
    "        saveComponent(component,markers.shape,i)\n",
    "\n",
    "\n",
    "def saveComponent (comp,shape,i):\n",
    "\n",
    "    sizeForFlatten = shape[0]*shape[1]\n",
    "\n",
    "    mask = np.zeros(sizeForFlatten)\n",
    "    for c in comp:\n",
    "        mask[c] = 1\n",
    "\n",
    "    mask = cv2.erode(mask, np.ones((50, 50)))\n",
    "\n",
    "    mask = mask.reshape(shape[0],shape[1])\n",
    "\n",
    "    print (\"writing image\")\n",
    "    cv2.imwrite(str(i)+\".jpg\", mask)\n",
    "\n",
    "    plt.imshow(mask, interpolation='nearest',cmap='gray')\n",
    "    # a =input ()\n",
    "breakIntoComponents(\"ss/faa-gov/0/screenshotnav-class-hNav.png\")\n"
   ]
  },
  {
   "cell_type": "code",
   "execution_count": 4,
   "metadata": {},
   "outputs": [
    {
     "ename": "NameError",
     "evalue": "name 'mask' is not defined",
     "output_type": "error",
     "traceback": [
      "\u001b[0;31m---------------------------------------------------------------------------\u001b[0m",
      "\u001b[0;31mNameError\u001b[0m                                 Traceback (most recent call last)",
      "\u001b[0;32m<ipython-input-4-978e2a506351>\u001b[0m in \u001b[0;36m<module>\u001b[0;34m\u001b[0m\n\u001b[0;32m----> 1\u001b[0;31m \u001b[0mplt\u001b[0m\u001b[0;34m.\u001b[0m\u001b[0mimshow\u001b[0m\u001b[0;34m(\u001b[0m\u001b[0mmask\u001b[0m\u001b[0;34m,\u001b[0m \u001b[0minterpolation\u001b[0m\u001b[0;34m=\u001b[0m\u001b[0;34m'nearest'\u001b[0m\u001b[0;34m,\u001b[0m\u001b[0mcmap\u001b[0m\u001b[0;34m=\u001b[0m\u001b[0;34m'gray'\u001b[0m\u001b[0;34m)\u001b[0m\u001b[0;34m\u001b[0m\u001b[0;34m\u001b[0m\u001b[0m\n\u001b[0m",
      "\u001b[0;31mNameError\u001b[0m: name 'mask' is not defined"
     ]
    }
   ],
   "source": []
  },
  {
   "cell_type": "code",
   "execution_count": 7,
   "metadata": {},
   "outputs": [],
   "source": []
  },
  {
   "cell_type": "code",
   "execution_count": 33,
   "metadata": {},
   "outputs": [
    {
     "name": "stdout",
     "output_type": "stream",
     "text": [
      "[[0 0 0 0 0 0]\n",
      " [0 0 0 0 0 0]\n",
      " [0 0 1 1 1 0]\n",
      " [0 0 1 0 1 0]\n",
      " [0 0 1 0 1 0]\n",
      " [0 0 0 0 0 0]]\n",
      "4\n",
      "[[0 0 1 1 1 0]\n",
      " [0 0 1 0 1 0]\n",
      " [0 0 1 0 1 0]\n",
      " [0 0 0 0 0 0]]\n"
     ]
    }
   ],
   "source": [
    "def removeLeadingZeros(mask):\n",
    "    for i in range (len(mask)):\n",
    "        if np.count_nonzero (mask[0]) == 0:\n",
    "            mask = np.delete(mask, 0,0)\n",
    "        else:\n",
    "            continue\n",
    "    return mask\n",
    "\n",
    "def removeTailingZeros(mask):\n",
    "    for i in range (len(mask)-1,0,-1):\n",
    "        if np.count_nonzero (mask[len(mask)-1]) == 0:\n",
    "            mask = np.delete(mask,len(mask)-1,0)\n",
    "        else:\n",
    "            continue\n",
    "    return mask\n",
    "\n",
    "A = np.array([[0,0,0,0,0,0],[0,0,0,0,0,0],[0,0,1,1,1,0],[0,0,1,0,1,0],[0,0,1,0,1,0], [0,0,0,0,0,0]])\n",
    "print (A)\n",
    "\n",
    "A = removeLeadingZeros(A)\n",
    "A = removeTailingZeros(A)\n",
    "print (A)\n"
   ]
  },
  {
   "cell_type": "code",
   "execution_count": null,
   "metadata": {},
   "outputs": [],
   "source": []
  },
  {
   "cell_type": "code",
   "execution_count": null,
   "metadata": {},
   "outputs": [],
   "source": []
  }
 ],
 "metadata": {
  "kernelspec": {
   "display_name": "Python 3",
   "language": "python",
   "name": "python3"
  },
  "language_info": {
   "codemirror_mode": {
    "name": "ipython",
    "version": 3
   },
   "file_extension": ".py",
   "mimetype": "text/x-python",
   "name": "python",
   "nbconvert_exporter": "python",
   "pygments_lexer": "ipython3",
   "version": "3.7.3"
  }
 },
 "nbformat": 4,
 "nbformat_minor": 2
}

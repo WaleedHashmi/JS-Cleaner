{
 "cells": [
  {
   "cell_type": "code",
   "execution_count": 5,
   "metadata": {},
   "outputs": [
    {
     "name": "stdout",
     "output_type": "stream",
     "text": [
      "Normalising Image: \t ss/faa-gov/0/screenshotnav-class-hNav.png\n",
      "1095718 3793882\n",
      "Saving Comp 0\n",
      "writing image\n",
      "Saving Comp 1\n",
      "writing image\n",
      "Saving Comp 2\n",
      "writing image\n"
     ]
    },
    {
     "data": {
      "image/png": "[encoded data removed]",
      "text/plain": [
       "<Figure size 432x288 with 1 Axes>"
      ]
     },
     "metadata": {
      "needs_background": "light"
     },
     "output_type": "display_data"
    }
   ],
   "source": [
    "#####\n",
    "#####  1. Aim:\n",
    "#####           a/ Normalise -> Set background as 0 and everything else in their primary colors\n",
    "#####           b/ find disconnected components\n",
    "#####\n",
    "\n",
    "# import the necessary packages\n",
    "import cv2, os\n",
    "import numpy as np\n",
    "import skimage\n",
    "from matplotlib import pyplot as plt\n",
    "\n",
    "\n",
    "def RemoveTempFolders(someList):\n",
    "    for item in someList:\n",
    "        if item[0] == \".\":\n",
    "            someList.remove(item)\n",
    "    return someList\n",
    "\n",
    "def normalise(img, background = [255,255,255]):\n",
    "    # change background to black(0)\n",
    "    # transorm the rest of the pixels to\n",
    "    # monotone for easier comparison later\n",
    "    black = 0\n",
    "    white = 255\n",
    "    k = 0\n",
    "    l=0\n",
    "    for i in range(len(img)):\n",
    "        for j in range(len(img[0])):\n",
    "            if list(img[i][j]) == background:\n",
    "                img[i][j] = black\n",
    "                l+=1\n",
    "            else:\n",
    "                img[i][j] = white\n",
    "                k+=1\n",
    "    print (k,l)\n",
    "    img = cv2.cvtColor(img, cv2.COLOR_BGR2GRAY)\n",
    "    return img\n",
    "\n",
    "\n",
    "def breakIntoComponents (img = \"ss/faa-gov/0/screenshotnav-class-hNav.png\"):\n",
    "    img0 = cv2.imread (img)\n",
    "\n",
    "    print (\"Normalising Image: \\t\", img)\n",
    "    img0_norm = normalise(img0)\n",
    "\n",
    "\n",
    "    labels, markers = cv2.connectedComponents(img0_norm.astype(np.uint8),connectivity=8)\n",
    "\n",
    "    img0_mask = skimage.measure.label(markers, background = 0).flatten()\n",
    "\n",
    "    for i in range (3):    #put range(labels)\n",
    "        component = np.where(img0_mask==1)[0]\n",
    "        print (\"Saving Comp\", i)\n",
    "        saveComponent(component,markers.shape,i)\n",
    "\n",
    "\n",
    "def saveComponent (comp,shape,i):\n",
    "\n",
    "    sizeForFlatten = shape[0]*shape[1]\n",
    "\n",
    "    mask = np.zeros(sizeForFlatten)\n",
    "    for c in comp:\n",
    "        mask[c] = 1\n",
    "\n",
    "    mask = cv2.erode(mask, np.ones((50, 50)))\n",
    "\n",
    "    mask = mask.reshape(shape[0],shape[1])\n",
    "\n",
    "    print (\"writing image\")\n",
    "    cv2.imwrite(str(i)+\".jpg\", mask)\n",
    "\n",
    "    plt.imshow(mask, interpolation='nearest',cmap='gray')\n",
    "    # a =input ()\n",
    "breakIntoComponents(\"ss/faa-gov/0/screenshotnav-class-hNav.png\")\n"
   ]
  },
  {
   "cell_type": "code",
   "execution_count": 4,
   "metadata": {},
   "outputs": [
    {
     "ename": "NameError",
     "evalue": "name 'mask' is not defined",
     "output_type": "error",
     "traceback": [
      "\u001b[0;31m---------------------------------------------------------------------------\u001b[0m",
      "\u001b[0;31mNameError\u001b[0m                                 Traceback (most recent call last)",
      "\u001b[0;32m<ipython-input-4-978e2a506351>\u001b[0m in \u001b[0;36m<module>\u001b[0;34m\u001b[0m\n\u001b[0;32m----> 1\u001b[0;31m \u001b[0mplt\u001b[0m\u001b[0;34m.\u001b[0m\u001b[0mimshow\u001b[0m\u001b[0;34m(\u001b[0m\u001b[0mmask\u001b[0m\u001b[0;34m,\u001b[0m \u001b[0minterpolation\u001b[0m\u001b[0;34m=\u001b[0m\u001b[0;34m'nearest'\u001b[0m\u001b[0;34m,\u001b[0m\u001b[0mcmap\u001b[0m\u001b[0;34m=\u001b[0m\u001b[0;34m'gray'\u001b[0m\u001b[0;34m)\u001b[0m\u001b[0;34m\u001b[0m\u001b[0;34m\u001b[0m\u001b[0m\n\u001b[0m",
      "\u001b[0;31mNameError\u001b[0m: name 'mask' is not defined"
     ]
    }
   ],
   "source": []
  },
  {
   "cell_type": "code",
   "execution_count": 7,
   "metadata": {},
   "outputs": [],
   "source": []
  },
  {
   "cell_type": "code",
   "execution_count": 36,
   "metadata": {},
   "outputs": [
    {
     "name": "stdout",
     "output_type": "stream",
     "text": [
      "[[0 0 0 0 0 0]\n",
      " [0 0 0 0 0 0]\n",
      " [0 0 1 1 1 0]\n",
      " [0 0 1 0 1 0]\n",
      " [0 0 1 0 1 0]\n",
      " [0 0 0 0 0 0]]\n",
      "[[1 1 1]\n",
      " [1 0 1]\n",
      " [1 0 1]]\n"
     ]
    }
   ],
   "source": [
    "def removeLeadingZeros(mask):\n",
    "    for i in range (len(mask)):\n",
    "        if np.count_nonzero (mask[0]) == 0:\n",
    "            mask = np.delete(mask, 0,0)\n",
    "        else:\n",
    "            continue\n",
    "    return mask\n",
    "\n",
    "def removeTailingZeros(mask):\n",
    "    for i in range (len(mask)-1,0,-1):\n",
    "        if np.count_nonzero (mask[len(mask)-1]) == 0:\n",
    "            mask = np.delete(mask,len(mask)-1,0)\n",
    "        else:\n",
    "            continue\n",
    "    return mask\n",
    "\n",
    "A = np.array([[0,0,0,0,0,0],[0,0,0,0,0,0],[0,0,1,1,1,0],[0,0,1,0,1,0],[0,0,1,0,1,0], [0,0,0,0,0,0]])\n",
    "print (A)\n",
    "\n",
    "A = removeLeadingZeros(A)\n",
    "A = removeTailingZeros(A)\n",
    "A = np.transpose(A)\n",
    "A = removeLeadingZeros(A)\n",
    "A = removeTailingZeros(A)\n",
    "A = np.transpose(A)\n",
    "\n",
    "print (A)\n"
   ]
  },
  {
   "cell_type": "code",
   "execution_count": 41,
   "metadata": {},
   "outputs": [
    {
     "data": {
      "text/plain": [
       "9"
      ]
     },
     "execution_count": 41,
     "metadata": {},
     "output_type": "execute_result"
    }
   ],
   "source": [
    "len(A.flatten())"
   ]
  },
  {
   "cell_type": "code",
   "execution_count": 49,
   "metadata": {},
   "outputs": [
    {
     "name": "stdout",
     "output_type": "stream",
     "text": [
      "[[[0. 0. 0.]\n",
      "  [0. 0. 0.]]\n",
      "\n",
      " [[0. 0. 0.]\n",
      "  [0. 0. 0.]]\n",
      "\n",
      " [[0. 0. 0.]\n",
      "  [0. 0. 0.]]\n",
      "\n",
      " [[0. 0. 0.]\n",
      "  [0. 0. 0.]]\n",
      "\n",
      " [[0. 0. 0.]\n",
      "  [0. 0. 0.]]]\n"
     ]
    }
   ],
   "source": [
    "a = np.zeros(10*3)\n",
    "\n",
    "a = a.reshape (10,3)\n",
    "\n",
    "a = a.reshape (5,2,3)\n",
    "\n",
    "\n",
    "\n",
    "print(a)"
   ]
  },
  {
   "cell_type": "code",
   "execution_count": 54,
   "metadata": {},
   "outputs": [
    {
     "data": {
      "text/plain": [
       "True"
      ]
     },
     "execution_count": 54,
     "metadata": {},
     "output_type": "execute_result"
    }
   ],
   "source": [
    "np.array([0,0,0]).sum() == 0"
   ]
  },
  {
   "cell_type": "code",
   "execution_count": 71,
   "metadata": {},
   "outputs": [
    {
     "name": "stdout",
     "output_type": "stream",
     "text": [
      "(1910, 2560)\n",
      "4168122 721478\n"
     ]
    }
   ],
   "source": [
    "img1 = cv2.imread('1/1.jpg')\n",
    "img1_norm = normalise(img1)\n"
   ]
  },
  {
   "cell_type": "code",
   "execution_count": 4,
   "metadata": {},
   "outputs": [
    {
     "data": {
      "text/plain": [
       "<matplotlib.image.AxesImage at 0x140581b38>"
      ]
     },
     "execution_count": 4,
     "metadata": {},
     "output_type": "execute_result"
    },
    {
     "data": {
      "image/png": "[encoded data removed]",
      "text/plain": [
       "<Figure size 432x288 with 1 Axes>"
      ]
     },
     "metadata": {
      "needs_background": "light"
     },
     "output_type": "display_data"
    }
   ],
   "source": [
    "import cv2, os\n",
    "import numpy as np\n",
    "import skimage\n",
    "from matplotlib import pyplot as plt\n",
    "\n",
    "img0 = cv2.imread('1/1.jpg',cv2.CV_8UC1)\n",
    "img0_norm = cv2.adaptiveThreshold(img0,255,cv2.ADAPTIVE_THRESH_GAUSSIAN_C,cv2.THRESH_BINARY,115,10)\n",
    "plt.imshow(img0_norm,interpolation='nearest',cmap='gray')\n"
   ]
  },
  {
   "cell_type": "code",
   "execution_count": 5,
   "metadata": {},
   "outputs": [
    {
     "ename": "NameError",
     "evalue": "name 'img1_norm' is not defined",
     "output_type": "error",
     "traceback": [
      "\u001b[0;31m---------------------------------------------------------------------------\u001b[0m",
      "\u001b[0;31mNameError\u001b[0m                                 Traceback (most recent call last)",
      "\u001b[0;32m<ipython-input-5-e9cd52a830ff>\u001b[0m in \u001b[0;36m<module>\u001b[0;34m\u001b[0m\n\u001b[0;32m----> 1\u001b[0;31m \u001b[0mplt\u001b[0m\u001b[0;34m.\u001b[0m\u001b[0mimshow\u001b[0m\u001b[0;34m(\u001b[0m\u001b[0mimg1_norm\u001b[0m\u001b[0;34m,\u001b[0m\u001b[0minterpolation\u001b[0m\u001b[0;34m=\u001b[0m\u001b[0;34m'nearest'\u001b[0m\u001b[0;34m,\u001b[0m\u001b[0mcmap\u001b[0m\u001b[0;34m=\u001b[0m\u001b[0;34m'gray'\u001b[0m\u001b[0;34m)\u001b[0m\u001b[0;34m\u001b[0m\u001b[0;34m\u001b[0m\u001b[0m\n\u001b[0m",
      "\u001b[0;31mNameError\u001b[0m: name 'img1_norm' is not defined"
     ]
    }
   ],
   "source": [
    "plt.imshow(img1_norm,interpolation='nearest',cmap='gray')\n"
   ]
  },
  {
   "cell_type": "code",
   "execution_count": 9,
   "metadata": {},
   "outputs": [
    {
     "data": {
      "text/plain": [
       "<matplotlib.image.AxesImage at 0x140c28e80>"
      ]
     },
     "execution_count": 9,
     "metadata": {},
     "output_type": "execute_result"
    },
    {
     "data": {
      "image/png": "[encoded data removed]",
      "text/plain": [
       "<Figure size 432x288 with 1 Axes>"
      ]
     },
     "metadata": {
      "needs_background": "light"
     },
     "output_type": "display_data"
    }
   ],
   "source": [
    "img1 = cv2.imread('1/1.jpg')\n",
    "\n",
    "_, threshold = cv2.threshold(img1, 155, 255, cv2.THRESH_BINARY)\n",
    "\n",
    "plt.imshow( threshold,interpolation='nearest',cmap='gray')"
   ]
  },
  {
   "cell_type": "code",
   "execution_count": 8,
   "metadata": {},
   "outputs": [
    {
     "name": "stdout",
     "output_type": "stream",
     "text": [
      "[[[0 0 0]\n",
      "  [0 0 0]\n",
      "  [0 0 0]\n",
      "  ...\n",
      "  [0 0 0]\n",
      "  [0 0 0]\n",
      "  [0 0 0]]\n",
      "\n",
      " [[0 0 0]\n",
      "  [0 0 0]\n",
      "  [0 0 0]\n",
      "  ...\n",
      "  [0 0 0]\n",
      "  [0 0 0]\n",
      "  [0 0 0]]\n",
      "\n",
      " [[0 0 0]\n",
      "  [0 0 0]\n",
      "  [0 0 0]\n",
      "  ...\n",
      "  [0 0 0]\n",
      "  [0 0 0]\n",
      "  [0 0 0]]\n",
      "\n",
      " ...\n",
      "\n",
      " [[0 0 0]\n",
      "  [0 0 0]\n",
      "  [0 0 0]\n",
      "  ...\n",
      "  [0 0 0]\n",
      "  [0 0 0]\n",
      "  [0 0 0]]\n",
      "\n",
      " [[0 0 0]\n",
      "  [0 0 0]\n",
      "  [0 0 0]\n",
      "  ...\n",
      "  [0 0 0]\n",
      "  [0 0 0]\n",
      "  [0 0 0]]\n",
      "\n",
      " [[0 0 0]\n",
      "  [0 0 0]\n",
      "  [0 0 0]\n",
      "  ...\n",
      "  [0 0 0]\n",
      "  [0 0 0]\n",
      "  [0 0 0]]]\n"
     ]
    },
    {
     "data": {
      "image/png": "[encoded data removed]",
      "text/plain": [
       "<Figure size 432x288 with 1 Axes>"
      ]
     },
     "metadata": {
      "needs_background": "light"
     },
     "output_type": "display_data"
    }
   ],
   "source": [
    "import cv2\n",
    "import numpy as np\n",
    "from matplotlib import pyplot as plt\n",
    "\n",
    "\n",
    "img = cv2.imread('1/2.jpg')\n",
    "gray = cv2.cvtColor(img,cv2.COLOR_BGR2GRAY)\n",
    "_,thresh = cv2.threshold(gray,1,255,cv2.THRESH_BINARY)\n",
    "\n",
    "\n",
    "contours = [cv2.findContours(thresh,cv2.RETR_EXTERNAL,cv2.CHAIN_APPROX_SIMPLE)]\n",
    "cnt = contours[0][0]\n",
    "x,y,w,h = cv2.boundingRect(cnt)\n",
    "\n",
    "\n",
    "crop = img[y:y+h,x:x+w]\n",
    "# cv2.imwrite('sofwinres.png',crop)\n",
    "plt.imshow (crop)\n",
    "\n",
    "print (img)"
   ]
  },
  {
   "cell_type": "code",
   "execution_count": 22,
   "metadata": {},
   "outputs": [
    {
     "name": "stdout",
     "output_type": "stream",
     "text": [
      "4885089 4511\n"
     ]
    }
   ],
   "source": [
    "def normalise(img, background = [255,255,255]):\n",
    "    # change background to black(0)\n",
    "    # transorm the rest of the pixels to\n",
    "    # monotone for easier comparison later\n",
    "    black = 0\n",
    "    white = 255\n",
    "    k = 0\n",
    "    l=0\n",
    "    for i in range(len(img)):\n",
    "        for j in range(len(img[0])):\n",
    "            if list(img[i][j]) == background:\n",
    "                img[i][j] = black\n",
    "                l+=1\n",
    "            else:\n",
    "                img[i][j] = white\n",
    "                k+=1\n",
    "    print (k,l)\n",
    "    img = cv2.cvtColor(img, cv2.COLOR_BGR2GRAY)\n",
    "    return img\n",
    "\n",
    "img1 = cv2.imread('1/2.jpg')\n",
    "img1 = normalise(img1)"
   ]
  },
  {
   "cell_type": "code",
   "execution_count": 40,
   "metadata": {},
   "outputs": [
    {
     "ename": "TypeError",
     "evalue": "'NoneType' object is not subscriptable",
     "output_type": "error",
     "traceback": [
      "\u001b[0;31m---------------------------------------------------------------------------\u001b[0m",
      "\u001b[0;31mTypeError\u001b[0m                                 Traceback (most recent call last)",
      "\u001b[0;32m<ipython-input-40-d339a40737cb>\u001b[0m in \u001b[0;36m<module>\u001b[0;34m\u001b[0m\n\u001b[1;32m     12\u001b[0m \u001b[0mx\u001b[0m\u001b[0;34m,\u001b[0m\u001b[0my\u001b[0m\u001b[0;34m,\u001b[0m\u001b[0mw\u001b[0m\u001b[0;34m,\u001b[0m\u001b[0mh\u001b[0m \u001b[0;34m=\u001b[0m \u001b[0mcv2\u001b[0m\u001b[0;34m.\u001b[0m\u001b[0mboundingRect\u001b[0m\u001b[0;34m(\u001b[0m\u001b[0mcnt\u001b[0m\u001b[0;34m)\u001b[0m\u001b[0;34m\u001b[0m\u001b[0;34m\u001b[0m\u001b[0m\n\u001b[1;32m     13\u001b[0m \u001b[0;34m\u001b[0m\u001b[0m\n\u001b[0;32m---> 14\u001b[0;31m \u001b[0mcrop\u001b[0m \u001b[0;34m=\u001b[0m \u001b[0mimg\u001b[0m\u001b[0;34m[\u001b[0m\u001b[0my\u001b[0m\u001b[0;34m:\u001b[0m\u001b[0my\u001b[0m\u001b[0;34m+\u001b[0m\u001b[0mh\u001b[0m\u001b[0;34m,\u001b[0m\u001b[0mx\u001b[0m\u001b[0;34m:\u001b[0m\u001b[0mx\u001b[0m\u001b[0;34m+\u001b[0m\u001b[0mw\u001b[0m\u001b[0;34m]\u001b[0m\u001b[0;34m\u001b[0m\u001b[0;34m\u001b[0m\u001b[0m\n\u001b[0m\u001b[1;32m     15\u001b[0m \u001b[0;31m# cv2.imwrite('sofwinres.png',crop)\u001b[0m\u001b[0;34m\u001b[0m\u001b[0;34m\u001b[0m\u001b[0;34m\u001b[0m\u001b[0m\n\u001b[1;32m     16\u001b[0m \u001b[0mplt\u001b[0m\u001b[0;34m.\u001b[0m\u001b[0mimshow\u001b[0m \u001b[0;34m(\u001b[0m\u001b[0mcrop\u001b[0m\u001b[0;34m)\u001b[0m\u001b[0;34m\u001b[0m\u001b[0;34m\u001b[0m\u001b[0m\n",
      "\u001b[0;31mTypeError\u001b[0m: 'NoneType' object is not subscriptable"
     ]
    }
   ],
   "source": [
    "# img = cv2.imread('1/2.jpg')\n",
    "\n",
    "# print (img.shape,img1.shape)\n",
    "\n",
    "# img = cv2.cvtColor(img1,cv2.COLOR_GRAY2BGR)\n",
    "# gray = cv2.cvtColor(img,cv2.COLOR_BGR2GRAY)\n",
    "_,thresh = cv2.threshold(img1,1,255,cv2.THRESH_BINARY_INV)\n",
    "\n",
    "\n",
    "contours = [cv2.findContours(thresh,cv2.RETR_EXTERNAL,cv2.CHAIN_APPROX_SIMPLE)]\n",
    "cnt = contours[0][0]\n",
    "x,y,w,h = cv2.boundingRect(cnt)\n",
    "\n",
    "crop = img[y:y+h,x:x+w]\n",
    "# cv2.imwrite('sofwinres.png',crop)\n",
    "plt.imshow (crop)"
   ]
  },
  {
   "cell_type": "code",
   "execution_count": 52,
   "metadata": {},
   "outputs": [
    {
     "name": "stdout",
     "output_type": "stream",
     "text": [
      "<class 'numpy.ndarray'>\n"
     ]
    },
    {
     "data": {
      "text/plain": [
       "<matplotlib.image.AxesImage at 0x1387cca90>"
      ]
     },
     "execution_count": 52,
     "metadata": {},
     "output_type": "execute_result"
    },
    {
     "data": {
      "image/png": "[encoded data removed]",
      "text/plain": [
       "<Figure size 432x288 with 1 Axes>"
      ]
     },
     "metadata": {
      "needs_background": "light"
     },
     "output_type": "display_data"
    }
   ],
   "source": [
    "img = cv2.imread('1/2.jpg')\n",
    "\n",
    "# print (img.shape,img1.shape)\n",
    "\n",
    "print (type(img))\n",
    "\n",
    "# img = cv2.cvtColor(img1,cv2.COLOR_GRAY2BGR)\n",
    "gray = cv2.cvtColor(img,cv2.COLOR_BGR2GRAY)\n",
    "_,thresh = cv2.threshold(gray,1,255,cv2.THRESH_BINARY)\n",
    "\n",
    "\n",
    "contours = [cv2.findContours(thresh,cv2.RETR_EXTERNAL,cv2.CHAIN_APPROX_SIMPLE)]\n",
    "cnt = contours[0][0]\n",
    "x,y,w,h = cv2.boundingRect(cnt)\n",
    "\n",
    "crop = img[y:y+h,x:x+w]\n",
    "# cv2.imwrite('sofwinres.png',crop)\n",
    "plt.imshow (crop)"
   ]
  },
  {
   "cell_type": "code",
   "execution_count": null,
   "metadata": {},
   "outputs": [],
   "source": []
  },
  {
   "cell_type": "code",
   "execution_count": null,
   "metadata": {},
   "outputs": [],
   "source": []
  }
 ],
 "metadata": {
  "kernelspec": {
   "display_name": "Python 3",
   "language": "python",
   "name": "python3"
  },
  "language_info": {
   "codemirror_mode": {
    "name": "ipython",
    "version": 3
   },
   "file_extension": ".py",
   "mimetype": "text/x-python",
   "name": "python",
   "nbconvert_exporter": "python",
   "pygments_lexer": "ipython3",
   "version": "3.7.3"
  }
 },
 "nbformat": 4,
 "nbformat_minor": 2
}
